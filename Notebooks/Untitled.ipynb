{
 "cells": [
  {
   "cell_type": "code",
   "execution_count": 1,
   "id": "0e85c532-c0fc-4c90-b7e3-ecbf13ec1f1e",
   "metadata": {},
   "outputs": [
    {
     "name": "stderr",
     "output_type": "stream",
     "text": [
      "/var/folders/7q/63cgxnn50sl5zwxkchv_j2cr0000gn/T/ipykernel_67504/3584942142.py:15: DtypeWarning: Columns (2,3,5,9,11,12,13,14) have mixed types. Specify dtype option on import or set low_memory=False.\n",
      "  policy_data = pd.read_csv('../DataFiles/2024-srcsc-superlife-inforce-dataset.csv')\n"
     ]
    },
    {
     "data": {
      "text/plain": [
       "36961"
      ]
     },
     "execution_count": 1,
     "metadata": {},
     "output_type": "execute_result"
    },
    {
     "data": {
      "image/png": "[encoded data removed]",
      "text/plain": [
       "<Figure size 640x480 with 1 Axes>"
      ]
     },
     "metadata": {},
     "output_type": "display_data"
    }
   ],
   "source": [
    "import pandas as pd\n",
    "import numpy as np\n",
    "import seaborn as sns\n",
    "import matplotlib.pyplot as plt\n",
    "\n",
    "\n",
    "mr = pd.read_csv('../DataFiles/mortality_rate.csv')\n",
    "\n",
    "sns.lineplot(data = mr, x = 'age', y = 'mortality_rate')\n",
    "\n",
    "econ_data = pd.read_csv('../DataFiles/economic_data.csv')\n",
    "\n",
    "econ_data\n",
    "\n",
    "policy_data = pd.read_csv('../DataFiles/2024-srcsc-superlife-inforce-dataset.csv')\n",
    "\n",
    "policy_data = policy_data.drop([0,1])\n",
    "policy_data.index = range(0, policy_data.shape[0])\n",
    "policy_data.columns = policy_data.iloc[0,:]\n",
    "policy_data = policy_data.drop([0])\n",
    "\n",
    "policy_data.columns = [c.replace('.','_').lower() for c in policy_data.columns]\n",
    "\n",
    "policy_data.death_indicator.describe()\n",
    "\n",
    "policy_data.death_indicator.value_counts().index\n",
    "\n",
    "policy_data.death_indicator.shape[0]- sum([1 if i == 1 else 0 for i in policy_data.death_indicator.isna()])\n",
    "\n",
    "policy_data.death_indicator.shape[0]- sum([0 if i == 1 else 1 for i in policy_data.death_indicator])"
   ]
  },
  {
   "cell_type": "markdown",
   "id": "ff7e90ca-2c24-437c-b971-74fc7147455e",
   "metadata": {},
   "source": [
    "###### Data munging"
   ]
  },
  {
   "cell_type": "code",
   "execution_count": 4,
   "id": "4e630f14-8633-4e3c-b45e-26d45e7fe0e0",
   "metadata": {},
   "outputs": [],
   "source": [
    "policy_data.lapse_indicator.fillna(0)\n",
    "policy_data.year_of_lapse[policy_data.lapse_indicator=='Y'].unique()\n",
    "# a lapse indicator of 'Y' is also associated with a year of lapse. Fill w/ 1\n",
    "policy_data.lapse_indicator[policy_data.lapse_indicator == 'Y'] = 1\n",
    "policy_data.death_indicator = policy_data.death_indicator.fillna(0)\n",
    "policy_data = policy_data.astype({'issue_year':'int', 'issue_age':'int',\n",
    "    'face_amount':'int',  'year_of_death':'float', 'death_indicator': 'float',\n",
    "    'year_of_lapse':'float', 'lapse_indicator': 'float', 'region':'int'})\n",
    "\n",
    "# Convert variables to indicators and ordinals\n",
    "policy_data = policy_data.convert_dtypes()\n",
    "conversions = {'sex': {'F': 0, 'M': 1},\n",
    "'underwriting_class': {'very low risk': 0, 'low risk': 1, 'moderate risk': 2,\n",
    "'high risk': 3},\n",
    "'urban_vs_rural': {'Urban': 0, 'Rural': 1},\n",
    "'smoker_status': {'NS':0, 'S':1}}\n",
    "\n",
    "for c in list(conversions.keys()):\n",
    "    policy_data[c] = [conversions[c][val] for val in policy_data[c]]\n",
    "\n",
    "# Derive data attributes\n",
    "policy_data['age_at_death'] = policy_data['year_of_death'] - \\\n",
    "    policy_data['issue_year'] + policy_data['issue_age']\n",
    "policy_data['age_at_lapse'] = policy_data['year_of_lapse'] - \\\n",
    "    policy_data['issue_year'] + policy_data['issue_age']\n",
    "\n",
    "# determine number of years each policy was in effect\n",
    "policy_data['years_in_effect'] = 0\n",
    "policy_data.loc[policy_data.death_indicator == 1, 'years_in_effect'] = \\\n",
    "    policy_data.year_of_death - policy_data.loc[\n",
    "        policy_data.death_indicator == 1, 'issue_year']\n",
    "\n",
    "policy_data.loc[policy_data.lapse_indicator == 1,'years_in_effect'] = \\\n",
    "    policy_data.year_of_lapse - policy_data.loc[\n",
    "        policy_data.lapse_indicator == 1, 'issue_year']\n",
    "\n",
    "policy_data.loc[((policy_data.lapse_indicator != 1) & \n",
    "                  (policy_data.death_indicator != 1)), 'years_in_effect'] = \\\n",
    "     2023 - policy_data.loc[((policy_data.lapse_indicator != 1) & \n",
    "                  (policy_data.death_indicator != 1)),'issue_year']\n",
    "\n",
    "# determine the maximum age attained or current age if still alive and active\n",
    "# for each policyholder\n",
    "policy_data['max_age'] = policy_data.years_in_effect + policy_data.issue_age"
   ]
  },
  {
   "cell_type": "markdown",
   "id": "677b424c-7e4a-45d4-ac6e-3aa4148562e1",
   "metadata": {},
   "source": [
    "###### Data Investigation"
   ]
  },
  {
   "cell_type": "code",
   "execution_count": 42,
   "id": "c70dcb0e-2a10-4cb0-8936-fc415dc71184",
   "metadata": {},
   "outputs": [],
   "source": [
    "class policy_stats:\n",
    "    \"\"\"collect statistics on the data\"\"\"\n",
    "    def __init__(self, policy_data):\n",
    "        self.min_age = policy_data.issue_age.min()\n",
    "        self.max_age = policy_data.max_age.max()\n",
    "        self.age_range = self.max_age - self.min_age\n",
    "        self.max_year = policy_data.issue_year.max()\n",
    "        self.min_year = policy_data.issue_year.min()"
   ]
  },
  {
   "cell_type": "code",
   "execution_count": 41,
   "id": "60c7d731-0a2c-4d4e-bd4c-1db111b4d3e5",
   "metadata": {},
   "outputs": [],
   "source": [
    "ps = policy_stats(policy_data)"
   ]
  },
  {
   "cell_type": "code",
   "execution_count": 13,
   "id": "21377b0d-b4bc-4f45-961f-7a390ba4f5cc",
   "metadata": {},
   "outputs": [
    {
     "data": {
      "text/plain": [
       "([<matplotlib.axis.XTick at 0x7f9394f67520>,\n",
       "  <matplotlib.axis.XTick at 0x7f9394f674f0>,\n",
       "  <matplotlib.axis.XTick at 0x7f93e4fbbf10>,\n",
       "  <matplotlib.axis.XTick at 0x7f93e54bf220>,\n",
       "  <matplotlib.axis.XTick at 0x7f93e54bfcd0>,\n",
       "  <matplotlib.axis.XTick at 0x7f93e54bf580>,\n",
       "  <matplotlib.axis.XTick at 0x7f93e5afccd0>,\n",
       "  <matplotlib.axis.XTick at 0x7f93e5aef7c0>],\n",
       " [Text(0, 0, '26'),\n",
       "  Text(8, 0, '34'),\n",
       "  Text(16, 0, '42'),\n",
       "  Text(24, 0, '50'),\n",
       "  Text(32, 0, '58'),\n",
       "  Text(40, 0, '66'),\n",
       "  Text(48, 0, '74'),\n",
       "  Text(56, 0, '82')])"
      ]
     },
     "execution_count": 13,
     "metadata": {},
     "output_type": "execute_result"
    },
    {
     "data": {
      "image/png": "[encoded data removed]",
      "text/plain": [
       "<Figure size 640x480 with 1 Axes>"
      ]
     },
     "metadata": {},
     "output_type": "display_data"
    }
   ],
   "source": [
    "sns.barplot(x = policy_data['age_at_death'].value_counts().index, \n",
    "           y = policy_data['age_at_death'].value_counts().values, color = 'g')\n",
    "plt.xticks(ticks = np.arange(0,88-26,8))"
   ]
  },
  {
   "cell_type": "markdown",
   "id": "cebdb861-dc13-422e-a27b-b39eb6529bba",
   "metadata": {},
   "source": [
    "It is likely bimodal due to gender differences"
   ]
  },
  {
   "cell_type": "markdown",
   "id": "6c2ecff6-73b2-4fac-b1d8-659e9a519eaf",
   "metadata": {},
   "source": [
    "No policies that have lapsed have death info. \n",
    "\n",
    "'''\n",
    "policy_data[(policy_data.death_indicator == 1) &  \n",
    "(policy_data.lapse_indicator == 1)]\n",
    "'''"
   ]
  },
  {
   "cell_type": "code",
   "execution_count": 21,
   "id": "08f658b2-2107-4dd0-853b-fb80a52b4209",
   "metadata": {},
   "outputs": [],
   "source": [
    "def num_lives(policies, age):\n",
    "    \"\"\"find the number of people who are alive and with a policy in effect at a \n",
    "    certain age\"\"\"\n",
    "    return policies[(policies.max_age >= age) & \n",
    "                    (policies.issue_age <= age)].shape[0] "
   ]
  },
  {
   "cell_type": "code",
   "execution_count": 22,
   "id": "e9b07928-6d6c-4bb2-ab3a-69471ec1e5be",
   "metadata": {},
   "outputs": [],
   "source": [
    "def plot_age_stats(data, title, ylabel, policy_stats):\n",
    "    \"\"\"make a plot with 'Age' on x-axis and a response variable on the y-axis\"\"\"\n",
    "    sns.barplot(x = data.index, y = data.values, color = 'lightgreen')\n",
    "    plt.xticks(ticks = np.arange(0, policy_stats.max_age - policy_stats.min_age \n",
    "                                 + 1 , 10))\n",
    "    plt.title(f'{title}')\n",
    "    plt.xlabel('Age')\n",
    "    plt.ylabel(f'{ylabel}')"
   ]
  },
  {
   "cell_type": "code",
   "execution_count": 43,
   "id": "25d07c7a-ef5b-44d9-a132-e185d2f41fbd",
   "metadata": {
    "scrolled": true
   },
   "outputs": [
    {
     "ename": "NameError",
     "evalue": "name 'life_counts' is not defined",
     "output_type": "error",
     "traceback": [
      "\u001b[0;31m---------------------------------------------------------------------------\u001b[0m",
      "\u001b[0;31mNameError\u001b[0m                                 Traceback (most recent call last)",
      "Cell \u001b[0;32mIn[43], line 1\u001b[0m\n\u001b[0;32m----> 1\u001b[0m plot_age_stats(\u001b[43mlife_counts\u001b[49m, \u001b[38;5;124m'\u001b[39m\u001b[38;5;124mNumber of Lives At Each Age\u001b[39m\u001b[38;5;124m'\u001b[39m, \u001b[38;5;124m'\u001b[39m\u001b[38;5;124mNumber of Lives\u001b[39m\u001b[38;5;124m'\u001b[39m, ps)\n",
      "\u001b[0;31mNameError\u001b[0m: name 'life_counts' is not defined"
     ]
    }
   ],
   "source": [
    "plot_age_stats(life_counts, 'Number of Lives At Each Age', 'Number of Lives', ps)"
   ]
  },
  {
   "cell_type": "markdown",
   "id": "60200ba9-cae5-407e-92f1-075c17c46949",
   "metadata": {},
   "source": [
    "Trend in mortality rates\n",
    "Overlay num deaths, num lives on mortality rate"
   ]
  },
  {
   "cell_type": "code",
   "execution_count": null,
   "id": "23b04ea7-6dc2-47e1-a245-fa9137df9f36",
   "metadata": {},
   "outputs": [],
   "source": [
    "policy_data.age"
   ]
  },
  {
   "cell_type": "code",
   "execution_count": 45,
   "id": "4c7a05e4-e11a-4248-b6c1-56dc82f291cc",
   "metadata": {},
   "outputs": [],
   "source": [
    "def mortality_rate(policies):\n",
    "    return pd.Series({age:\n",
    "            policies.age_at_death.value_counts()[age]\n",
    "            /num_lives(policies,age) for age in age_range})"
   ]
  },
  {
   "cell_type": "code",
   "execution_count": 102,
   "id": "98ab9f5d-165d-4d8f-90d1-7e209d696b39",
   "metadata": {},
   "outputs": [],
   "source": [
    "mr = mortality_rate(policy_data);"
   ]
  },
  {
   "cell_type": "code",
   "execution_count": 23,
   "id": "899a044d-c032-4bd2-b5b7-8ab62e54db5c",
   "metadata": {},
   "outputs": [],
   "source": [
    "def num_lives(policies, age, year):\n",
    "    return policies[(policies.max_age >= age) & \n",
    "                    (policies.issue_age <= age) &\n",
    "                    (policies.issue_year <= year) & \n",
    "                    (policies.max_year >= year)].shape[0]"
   ]
  },
  {
   "cell_type": "code",
   "execution_count": 44,
   "id": "11727e0b-3609-4986-a3e7-4db0a805b4ee",
   "metadata": {},
   "outputs": [],
   "source": [
    "def year_mortality(policies, age, year):\n",
    "    return policies[(policies.max_age >= age) & \n",
    "                    (policies.issue_age <= age) &\n",
    "                    (policies.issue_year <= year) & \n",
    "                    (policies.max_year >= year)].shape[0]"
   ]
  },
  {
   "cell_type": "code",
   "execution_count": 25,
   "id": "c4698229-77a9-48bc-938d-303af1e8868b",
   "metadata": {},
   "outputs": [
    {
     "ename": "SyntaxError",
     "evalue": "invalid syntax (816380827.py, line 2)",
     "output_type": "error",
     "traceback": [
      "\u001b[0;36m  Cell \u001b[0;32mIn[25], line 2\u001b[0;36m\u001b[0m\n\u001b[0;31m    pd.DataFrame({year: mortality_rate[policies[]].\u001b[0m\n\u001b[0m                                                ^\u001b[0m\n\u001b[0;31mSyntaxError\u001b[0m\u001b[0;31m:\u001b[0m invalid syntax\n"
     ]
    }
   ],
   "source": [
    "def mortality_by_year(policies, suppport):\n",
    "    pd.DataFrame({year: mortality_rate[policies[]].\n",
    "    return policies[(policies.max_age >= age) & \n",
    "                    (policies.issue_age <= age) &\n",
    "                    (policies.issue_year <= year) & \n",
    "                    (policies.max_year >= year)].shape[0]"
   ]
  },
  {
   "cell_type": "code",
   "execution_count": 26,
   "id": "8ab6e6fc-2f2d-4b87-b554-133df4ee771a",
   "metadata": {},
   "outputs": [
    {
     "ename": "TypeError",
     "evalue": "plot_age_stats() missing 1 required positional argument: 'policy_stats'",
     "output_type": "error",
     "traceback": [
      "\u001b[0;31m---------------------------------------------------------------------------\u001b[0m",
      "\u001b[0;31mTypeError\u001b[0m                                 Traceback (most recent call last)",
      "Cell \u001b[0;32mIn[26], line 1\u001b[0m\n\u001b[0;32m----> 1\u001b[0m \u001b[43mplot_age_stats\u001b[49m\u001b[43m(\u001b[49m\u001b[43mmr\u001b[49m\u001b[43m,\u001b[49m\u001b[43m \u001b[49m\u001b[38;5;124;43m'\u001b[39;49m\u001b[38;5;124;43mMortality Rate by Age\u001b[39;49m\u001b[38;5;124;43m'\u001b[39;49m\u001b[43m,\u001b[49m\u001b[43m \u001b[49m\u001b[38;5;124;43m'\u001b[39;49m\u001b[38;5;124;43mMortality Rate\u001b[39;49m\u001b[38;5;124;43m'\u001b[39;49m\u001b[43m)\u001b[49m\n",
      "\u001b[0;31mTypeError\u001b[0m: plot_age_stats() missing 1 required positional argument: 'policy_stats'"
     ]
    }
   ],
   "source": [
    "plot_age_stats(mr, 'Mortality Rate by Age', 'Mortality Rate')"
   ]
  },
  {
   "cell_type": "code",
   "execution_count": 109,
   "id": "b4eb6517-60a0-4a30-ac80-87a43e434fa0",
   "metadata": {},
   "outputs": [],
   "source": [
    "policy_data['max_year'] = policy_data.issue_year + policy_data.years_in_effect"
   ]
  },
  {
   "cell_type": "code",
   "execution_count": null,
   "id": "1facc571-93e6-48b5-9983-105e9d2da545",
   "metadata": {},
   "outputs": [],
   "source": [
    "for age in policy_data.age_at_death.value_counts().\\\n",
    "sort_index(ascending=False).values:\n",
    "    mortality_rate = policy_data[(policy_data.age_at_death == age)].values/\\\n",
    "    (policy_data.issue_age"
   ]
  },
  {
   "cell_type": "code",
   "execution_count": null,
   "id": "ede0c8d6-ffec-466f-a5ae-b5e47f6e6c20",
   "metadata": {},
   "outputs": [],
   "source": [
    "policy_data[policy_data.issue_age >= "
   ]
  },
  {
   "cell_type": "code",
   "execution_count": null,
   "id": "c0bc8059-1ddd-4001-8d7e-85a5a0dabd8a",
   "metadata": {},
   "outputs": [],
   "source": [
    "policy_data."
   ]
  },
  {
   "cell_type": "code",
   "execution_count": null,
   "id": "48845b2f-e790-4347-8ebb-8b4fbe38e33e",
   "metadata": {},
   "outputs": [],
   "source": [
    "max(policy_data['years_in_effect'].values)"
   ]
  },
  {
   "cell_type": "code",
   "execution_count": null,
   "id": "a5df2bac-02a9-47bc-bee3-b3857afa7f1f",
   "metadata": {},
   "outputs": [],
   "source": [
    "def policy_check(policy, death_lapse):\n",
    "    policy."
   ]
  },
  {
   "cell_type": "markdown",
   "id": "ac390264-a968-4db3-bcf2-ee47f4354563",
   "metadata": {},
   "source": [
    "find p_x_t, q_x_t"
   ]
  },
  {
   "cell_type": "code",
   "execution_count": null,
   "id": "be59c20f-c3ce-4a5c-a750-ef11f4178b61",
   "metadata": {},
   "outputs": [],
   "source": [
    "policy_data.issue_age.max()"
   ]
  },
  {
   "cell_type": "code",
   "execution_count": null,
   "id": "d757f7d7-82f2-4f6b-96fc-8818109540b5",
   "metadata": {},
   "outputs": [],
   "source": [
    "max_age = policy_data.issue_age.max()\n",
    "min_age = policy_data.issue_age.min()\n",
    "bp = sns.barplot(x = policy_data.issue_age.value_counts().sort_index().index, \n",
    "           y= policy_data.issue_age.value_counts().sort_index().values,\n",
    "           color = 'lightgreen')\n",
    "bp.set_title('Counts of Issue Age')\n",
    "bp.set_xticks(np.arange(4,max_age-min_age+1,5))"
   ]
  },
  {
   "cell_type": "code",
   "execution_count": null,
   "id": "89d154af-b0c4-4db3-b243-4d0f4db97dfd",
   "metadata": {},
   "outputs": [],
   "source": [
    "policy_data['age_at_death'].value_counts().sort_index(ascending = False)"
   ]
  },
  {
   "cell_type": "code",
   "execution_count": null,
   "id": "db74068e-1ed2-49ba-9c62-1272969d92d6",
   "metadata": {},
   "outputs": [],
   "source": [
    "policy_data['years_in_effect'].value_counts().sort_index()"
   ]
  },
  {
   "cell_type": "code",
   "execution_count": null,
   "id": "78cc8bdb-0394-4d50-900c-bafce3198001",
   "metadata": {},
   "outputs": [],
   "source": [
    "policy_data['age_max'] = policy_data.years_in_effect + policy_data.issue_age"
   ]
  },
  {
   "cell_type": "code",
   "execution_count": null,
   "id": "ad752882-44d8-48ac-a22b-3bb39d22d9a8",
   "metadata": {},
   "outputs": [],
   "source": [
    "policy_data['age_max'].value_counts().sort_index(ascending=False)"
   ]
  },
  {
   "cell_type": "code",
   "execution_count": null,
   "id": "0bb78593-0c43-4e8c-aa17-882744058a69",
   "metadata": {},
   "outputs": [],
   "source": [
    "policy_data."
   ]
  },
  {
   "cell_type": "code",
   "execution_count": null,
   "id": "08b0ba7e-0b16-482f-a3f1-451ea2a3a726",
   "metadata": {},
   "outputs": [],
   "source": [
    "def mort_table(policy_data = policy_data, max_yrs = 22):\n",
    "    for i in range(0, max_yrs + 1):\n",
    "        p_x_t_life\n",
    "        p_x_t_no_lapse\n",
    "        "
   ]
  },
  {
   "cell_type": "code",
   "execution_count": 33,
   "id": "1cc3eaf8-e78c-4a72-8ce3-f2827fb3a1c1",
   "metadata": {},
   "outputs": [
    {
     "data": {
      "text/plain": [
       "<Axes: >"
      ]
     },
     "execution_count": 33,
     "metadata": {},
     "output_type": "execute_result"
    },
    {
     "data": {
      "image/png": "[encoded data removed]",
      "text/plain": [
       "<Figure size 640x480 with 1 Axes>"
      ]
     },
     "metadata": {},
     "output_type": "display_data"
    }
   ],
   "source": [
    "policy_data.years_in_effect.plot()"
   ]
  },
  {
   "cell_type": "code",
   "execution_count": 38,
   "id": "6840225e-41c2-4317-9437-9c261c0ea455",
   "metadata": {},
   "outputs": [
    {
     "data": {
      "text/plain": [
       "Series([], dtype: Int64)"
      ]
     },
     "execution_count": 38,
     "metadata": {},
     "output_type": "execute_result"
    }
   ],
   "source": [
    "policy_data['year_of_death'].fillna(policy_data['year_of_lapse']).fillna(2023)[\n",
    "np.minimum(policy_data['year_of_death'], policy_data['year_of_lapse']).notna()\n",
    "]"
   ]
  },
  {
   "cell_type": "code",
   "execution_count": 28,
   "id": "c9c30abd-27d3-4391-9299-5ac74e997c9c",
   "metadata": {},
   "outputs": [
    {
     "name": "stdout",
     "output_type": "stream",
     "text": [
      "Unexpected exception formatting exception. Falling back to standard exception\n"
     ]
    },
    {
     "name": "stderr",
     "output_type": "stream",
     "text": [
      "Traceback (most recent call last):\n",
      "  File \"/Users/williammohr/opt/anaconda3/lib/python3.9/site-packages/IPython/core/interactiveshell.py\", line 3526, in run_code\n",
      "    exec(code_obj, self.user_global_ns, self.user_ns)\n",
      "  File \"/var/folders/7q/63cgxnn50sl5zwxkchv_j2cr0000gn/T/ipykernel_67504/584069087.py\", line 2, in <module>\n",
      "    np.min(policy_data['year_of_death'], policy_data['year_of_lapse'])) - \\\n",
      "  File \"<__array_function__ internals>\", line 200, in amin\n",
      "  File \"/Users/williammohr/opt/anaconda3/lib/python3.9/site-packages/numpy/core/fromnumeric.py\", line 2946, in amin\n",
      "    return _wrapreduction(a, np.minimum, 'min', axis, None, out,\n",
      "  File \"/Users/williammohr/opt/anaconda3/lib/python3.9/site-packages/numpy/core/fromnumeric.py\", line 84, in _wrapreduction\n",
      "    return reduction(axis=axis, out=out, **passkwargs)\n",
      "  File \"/Users/williammohr/opt/anaconda3/lib/python3.9/site-packages/pandas/core/generic.py\", line 11669, in min\n",
      "    return NDFrame.min(self, axis, skipna, numeric_only, **kwargs)\n",
      "  File \"/Users/williammohr/opt/anaconda3/lib/python3.9/site-packages/pandas/core/generic.py\", line 11169, in min\n",
      "    return self._stat_function(\n",
      "  File \"/Users/williammohr/opt/anaconda3/lib/python3.9/site-packages/pandas/core/generic.py\", line 11158, in _stat_function\n",
      "    return self._reduce(\n",
      "  File \"/Users/williammohr/opt/anaconda3/lib/python3.9/site-packages/pandas/core/series.py\", line 4652, in _reduce\n",
      "    self._get_axis_number(axis)\n",
      "  File \"/Users/williammohr/opt/anaconda3/lib/python3.9/site-packages/pandas/core/generic.py\", line 513, in _get_axis_number\n",
      "    return cls._AXIS_TO_AXIS_NUMBER[axis]\n",
      "TypeError: unhashable type: 'Series'\n",
      "\n",
      "During handling of the above exception, another exception occurred:\n",
      "\n",
      "Traceback (most recent call last):\n",
      "  File \"/Users/williammohr/opt/anaconda3/lib/python3.9/site-packages/IPython/core/interactiveshell.py\", line 2120, in showtraceback\n",
      "    stb = self.InteractiveTB.structured_traceback(\n",
      "  File \"/Users/williammohr/opt/anaconda3/lib/python3.9/site-packages/IPython/core/ultratb.py\", line 1435, in structured_traceback\n",
      "    return FormattedTB.structured_traceback(\n",
      "  File \"/Users/williammohr/opt/anaconda3/lib/python3.9/site-packages/IPython/core/ultratb.py\", line 1326, in structured_traceback\n",
      "    return VerboseTB.structured_traceback(\n",
      "  File \"/Users/williammohr/opt/anaconda3/lib/python3.9/site-packages/IPython/core/ultratb.py\", line 1173, in structured_traceback\n",
      "    formatted_exception = self.format_exception_as_a_whole(etype, evalue, etb, number_of_lines_of_context,\n",
      "  File \"/Users/williammohr/opt/anaconda3/lib/python3.9/site-packages/IPython/core/ultratb.py\", line 1063, in format_exception_as_a_whole\n",
      "    self.get_records(etb, number_of_lines_of_context, tb_offset) if etb else []\n",
      "  File \"/Users/williammohr/opt/anaconda3/lib/python3.9/site-packages/IPython/core/ultratb.py\", line 1155, in get_records\n",
      "    FrameInfo(\n",
      "  File \"/Users/williammohr/opt/anaconda3/lib/python3.9/site-packages/IPython/core/ultratb.py\", line 780, in __init__\n",
      "    ix = inspect.getsourcelines(frame)\n",
      "  File \"/Users/williammohr/opt/anaconda3/lib/python3.9/inspect.py\", line 1006, in getsourcelines\n",
      "    lines, lnum = findsource(object)\n",
      "  File \"/Users/williammohr/opt/anaconda3/lib/python3.9/inspect.py\", line 835, in findsource\n",
      "    raise OSError('could not get source code')\n",
      "OSError: could not get source code\n"
     ]
    }
   ],
   "source": [
    "policy_data['years_in_effect'] = np.min(2023,\n",
    "    np.min(policy_data['year_of_death'], policy_data['year_of_lapse'])) - \\\n",
    "    policy_data['issue_year']\n",
    "    "
   ]
  }
 ],
 "metadata": {
  "kernelspec": {
   "display_name": "Python 3 (ipykernel)",
   "language": "python",
   "name": "python3"
  },
  "language_info": {
   "codemirror_mode": {
    "name": "ipython",
    "version": 3
   },
   "file_extension": ".py",
   "mimetype": "text/x-python",
   "name": "python",
   "nbconvert_exporter": "python",
   "pygments_lexer": "ipython3",
   "version": "3.9.18"
  }
 },
 "nbformat": 4,
 "nbformat_minor": 5
}
